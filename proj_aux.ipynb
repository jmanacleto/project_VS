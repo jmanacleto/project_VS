{
 "cells": [
  {
   "cell_type": "code",
   "execution_count": 14,
   "metadata": {},
   "outputs": [],
   "source": [
    "import pandas as pd\n",
    "import numpy as np\n",
    "from unidecode import unidecode\n",
    "import os\n",
    "import requests\n",
    "from dbfread import DBF\n",
    "import psycopg2\n",
    "from sqlalchemy import create_engine"
   ]
  },
  {
   "cell_type": "code",
   "execution_count": null,
   "metadata": {},
   "outputs": [],
   "source": [
    "import pandas as pd\n",
    "\n",
    "# Lê o arquivo CSV usando separador ;\n",
    "file_path = 'C:/Users/User/202011_AuxilioEmergencial.csv'\n",
    "df = pd.read_csv(file_path, encoding='latin1', sep=';')\n",
    "\n",
    "#alterando , para .\n",
    "df[\"VALOR PARCELA\"] = df[\"VALOR PARCELA\"].replace(\",\",\".\",regex = True).astype(float)\n"
   ]
  },
  {
   "cell_type": "code",
   "execution_count": 22,
   "metadata": {},
   "outputs": [],
   "source": [
    "# Agrupa por código do município, conta o número de linhas e soma o valor repassado\n",
    "grouped = df.groupby('CÓDIGO MUNICÍPIO SIAFI').agg({'NIS FAVORECIDO': 'count', 'VALOR PARCELA': 'sum'})"
   ]
  },
  {
   "cell_type": "code",
   "execution_count": 23,
   "metadata": {},
   "outputs": [],
   "source": [
    "# Renomeia as colunas resultantes\n",
    "grouped.rename(columns={'NIS FAVORECIDO': 'Número de Linhas', 'VALOR PARCELA': 'Total Repassado'}, inplace=True)"
   ]
  },
  {
   "cell_type": "code",
   "execution_count": 24,
   "metadata": {},
   "outputs": [],
   "source": [
    "# Adiciona uma coluna com o ano\n",
    "grouped[\"ID_ANO\"] = 2021"
   ]
  },
  {
   "cell_type": "code",
   "execution_count": 25,
   "metadata": {},
   "outputs": [],
   "source": [
    "# Reseta o índice do DataFrame\n",
    "grouped = grouped.reset_index()"
   ]
  },
  {
   "cell_type": "code",
   "execution_count": 26,
   "metadata": {},
   "outputs": [
    {
     "name": "stdout",
     "output_type": "stream",
     "text": [
      "Resultado agrupado salvo em: C:/Users/João Miguel/Documents/projeto/Auxilio Brasil/arq_csvaux/202211_AuxilioBrasil.csv\n"
     ]
    }
   ],
   "source": [
    "# Caminho para salvar o arquivo CSV de saída\n",
    "output_folder = 'C:\\Users\\João Miguel\\Documents\\projeto\\Auxilio Emergencial\\arq_csvaux2'  # Altere para o caminho da pasta que você escolher\n",
    "output_csv_path = f'{output_folder}/202011_AuxilioEmergencial.csv'\n",
    "\n",
    "# Salva o resultado agrupado em um arquivo CSV, usando o separador ;\n",
    "grouped.to_csv(output_csv_path, sep=';', index=False)\n",
    "\n",
    "print(f\"Resultado agrupado salvo em: {output_csv_path}\")"
   ]
  },
  {
   "cell_type": "markdown",
   "metadata": {},
   "source": [
    "Vendo o dataframe"
   ]
  }
 ],
 "metadata": {
  "kernelspec": {
   "display_name": "Python 3 (ipykernel)",
   "language": "python",
   "name": "python3"
  },
  "orig_nbformat": 4
 },
 "nbformat": 4,
 "nbformat_minor": 2
}
